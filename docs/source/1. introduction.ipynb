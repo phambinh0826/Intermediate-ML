{
 "cells": [
  {
   "cell_type": "markdown",
   "metadata": {},
   "source": [
    "# Giới thiệu (# Introduction #)\n",
    "\n",
    "Chào mừng bạn đến với khóa học **Intermediate Machine Learning** trên Kaggle!\n",
    "\n",
    "Nếu bạn đã có nền tảng về *machine learning* và muốn học cách nhanh chóng cải thiện chất lượng mô hình của mình, thì bạn đang ở đúng nơi! Trong khóa học này, bạn sẽ nâng cao kiến thức của mình bằng cách học cách:\n",
    "- xử lý các loại dữ liệu thường gặp trong thực tế như **missing values** (*giá trị khuyết*), **categorical variables** (*biến phân loại*),\n",
    "- thiết kế **pipelines** để cải thiện chất lượng mã *machine learning* của bạn,\n",
    "- sử dụng các kỹ thuật nâng cao để đánh giá mô hình như **cross-validation** (*xác thực chéo*),\n",
    "- xây dựng các mô hình tiên tiến được sử dụng rộng rãi để chiến thắng các cuộc thi Kaggle như **XGBoost**,\n",
    "- tránh các lỗi phổ biến và quan trọng trong *data science* như **leakage** (*rò rỉ dữ liệu*).\n",
    "\n",
    "Trong suốt khóa học, bạn sẽ áp dụng kiến thức của mình thông qua các bài tập thực hành với dữ liệu thực tế. Các bài tập này sử dụng dữ liệu từ cuộc thi [Housing Prices Competition for Kaggle Learn Users](https://www.kaggle.com/c/home-data-for-ml-course), nơi bạn sẽ sử dụng 79 biến giải thích khác nhau (chẳng hạn như kiểu mái nhà, số phòng ngủ, số phòng tắm) để dự đoán giá nhà. Bạn sẽ đo lường tiến độ của mình bằng cách nộp dự đoán vào cuộc thi này và theo dõi thứ hạng của mình trên [bảng xếp hạng](https://www.kaggle.com/c/home-data-for-ml-course/leaderboard)!\n",
    "\n",
    "![tut1_competition](https://storage.googleapis.com/kaggle-competitions/kaggle/5407/media/housesbanner.png)\n",
    "\n",
    "# Yêu cầu đầu vào (# Prerequisites #)\n",
    "\n",
    "Bạn đã sẵn sàng cho khóa học này nếu bạn đã từng xây dựng một mô hình *machine learning* trước đây và quen thuộc với các chủ đề như [model validation](https://www.kaggle.com/dansbecker/model-validation) (*đánh giá mô hình*), [underfitting and overfitting](https://www.kaggle.com/dansbecker/underfitting-and-overfitting) (*mô hình chưa đủ khớp và quá khớp*), và [random forests](https://www.kaggle.com/dansbecker/random-forests) (*rừng ngẫu nhiên*).\n",
    "\n",
    "Nếu bạn hoàn toàn mới với *machine learning*, hãy tham khảo khóa học [Intro to Machine Learning](https://www.kaggle.com/learn/intro-to-machine-learning), khóa học này sẽ cung cấp tất cả những kiến thức cần thiết để bạn chuẩn bị cho khóa học này.\n",
    "\n",
    "# Đến lượt bạn! (# Your Turn #)\n",
    "\n",
    "Hãy tiếp tục đến **[bài tập đầu tiên](https://www.kaggle.com/kernels/fork/3370272)** để học cách nộp dự đoán vào một cuộc thi Kaggle và xác định những kiến thức bạn cần ôn tập trước khi bắt đầu.\n",
    "---\n",
    "\n",
    "\n",
    "\n",
    "\n",
    "*Have questions or comments? Visit the [course discussion forum](https://www.kaggle.com/learn/intermediate-machine-learning/discussion) to chat with other learners.*"
   ]
  }
 ],
 "metadata": {
  "kernelspec": {
   "display_name": "Python 3",
   "language": "python",
   "name": "python3"
  },
  "language_info": {
   "name": "python",
   "version": "3.13.2"
  }
 },
 "nbformat": 4,
 "nbformat_minor": 2
}
